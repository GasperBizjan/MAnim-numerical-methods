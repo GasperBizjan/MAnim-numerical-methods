{
 "cells": [
  {
   "cell_type": "code",
   "execution_count": 18,
   "metadata": {},
   "outputs": [],
   "source": [
    "import numpy as np\n",
    "import matplotlib.pyplot as plt\n",
    "from scipy.integrate import solve_ivp"
   ]
  },
  {
   "cell_type": "code",
   "execution_count": 19,
   "metadata": {},
   "outputs": [],
   "source": [
    "def euler(f, t, y0, *args, **kwargs):\n",
    "    \"\"\"\n",
    "    Eulerjeva metoda za reševanje sistema diferencialnih enačb: y' = f(t, y)\n",
    "    \n",
    "    :param f:  funkcija, ki vrne prvi odvod - f(t, y)\n",
    "    :param t:  časovni vektor kjer računamo rešitev\n",
    "    :param y0: začetna vrednosti\n",
    "    :param args: dodatni argumenti funkcije f (brezimenski)\n",
    "    :param kwargs: dodatni argumenti funkcije f (poimenovani)\n",
    "    :return y: vrne np.array ``y`` vrednosti funkcije.\n",
    "    \"\"\"\n",
    "    y = np.zeros_like(t)\n",
    "    y[0] = y0        \n",
    "    h = t[1]-t[0]\n",
    "    for i in range(len(t)-1):\n",
    "        y[i+1] = y[i] + f(t[i], y[i], *args, **kwargs) * h\n",
    "    return y"
   ]
  },
  {
   "cell_type": "code",
   "execution_count": 20,
   "metadata": {},
   "outputs": [],
   "source": [
    "def f_zračni_upor(t, y, g=9.81, m=1., c=0.5):\n",
    "    return g-c*y/m"
   ]
  },
  {
   "cell_type": "code",
   "execution_count": 21,
   "metadata": {},
   "outputs": [
    {
     "data": {
      "text/plain": [
       "array([0.  , 0.05, 0.1 , 0.15, 0.2 , 0.25, 0.3 , 0.35, 0.4 , 0.45])"
      ]
     },
     "execution_count": 21,
     "metadata": {},
     "output_type": "execute_result"
    }
   ],
   "source": [
    "t = np.linspace(0, 5, 101)\n",
    "t[:10]"
   ]
  },
  {
   "cell_type": "code",
   "execution_count": 22,
   "metadata": {},
   "outputs": [],
   "source": [
    "sol = solve_ivp(f_zračni_upor, t_span=(t[0], t[-1]), y0=[0], t_eval=t)"
   ]
  },
  {
   "cell_type": "code",
   "execution_count": 23,
   "metadata": {},
   "outputs": [
    {
     "data": {
      "image/png": "[encoded data removed]",
      "text/plain": [
       "<Figure size 432x288 with 1 Axes>"
      ]
     },
     "metadata": {
      "needs_background": "light"
     },
     "output_type": "display_data"
    }
   ],
   "source": [
    "plt.plot(sol['t'], sol['y'][0], '.',label='hitrost $x$ [m]')\n",
    "plt.xlabel('Čas [t]')\n",
    "plt.legend();"
   ]
  },
  {
   "cell_type": "code",
   "execution_count": 54,
   "metadata": {},
   "outputs": [],
   "source": [
    "t = np.linspace(0, 2, 4)"
   ]
  },
  {
   "cell_type": "code",
   "execution_count": 55,
   "metadata": {},
   "outputs": [],
   "source": [
    "v = euler(f_zračni_upor,t, y0=0)"
   ]
  },
  {
   "cell_type": "code",
   "execution_count": 56,
   "metadata": {},
   "outputs": [
    {
     "data": {
      "image/png": "[encoded data removed]",
      "text/plain": [
       "<Figure size 432x288 with 1 Axes>"
      ]
     },
     "metadata": {
      "needs_background": "light"
     },
     "output_type": "display_data"
    }
   ],
   "source": [
    "plt.plot(sol['t'], sol['y'][0], '-',label='RK4')\n",
    "plt.plot(t, v, '-',label='Euler')\n",
    "plt.xlabel('Čas [t]')\n",
    "plt.legend();"
   ]
  },
  {
   "cell_type": "code",
   "execution_count": 57,
   "metadata": {},
   "outputs": [],
   "source": [
    "from scipy.optimize import newton"
   ]
  },
  {
   "cell_type": "markdown",
   "metadata": {},
   "source": [
    "V kodi komentiram kateri del bi bilo dobro posebej izpostaviti."
   ]
  },
  {
   "cell_type": "code",
   "execution_count": 64,
   "metadata": {},
   "outputs": [],
   "source": [
    "def sekantna(fun, x0, x1, tol=1e-3, Dtol=1e-1, max_iter=5, izpis=True):\n",
    "    \"\"\" Vrne ničlo z natančnostjo tol\n",
    "    \n",
    "    :param fun: funkcija katere ničlo iščemo\n",
    "    :param x0:  spodnja meja iskanja\n",
    "    :param x1:  zgornja meja iskanja\n",
    "    :param tol: zahtevana natančnost\n",
    "    :max_iter:  maksimalno število iteracij preden se izvajanje prekine\n",
    "    :param Dtol:največja vsota absolutnih vrednosti rešitve \n",
    "    :izpis:     ali na koncu izpiše kratko poročilo\n",
    "    \"\"\"\n",
    "    for i in range(max_iter):\n",
    "        f0 = fun(x0)\n",
    "        f1 = fun(x1)\n",
    "        x2 = x1 - f1 * (x1 - x0)/(f1 - f0)\n",
    "        if izpis:\n",
    "            print(f'{i+1:g}. korak: x0={x0:g}, f(x0)={f0:g}, x1={x1:g}, f(x1)={f1:g}, x2={x2:g}.')\n",
    "        x0 = x1\n",
    "        x1 = x2        \n",
    "        if np.abs(x1-x0)<tol:\n",
    "            r = (x0+x1)/2\n",
    "            D = np.abs(fun(x0)) + np.abs(fun(x1))\n",
    "            if D > Dtol:\n",
    "                raise Exception('Verjetnost pola ali več ničel.')\n",
    "            r = (x0+x1)/2\n",
    "            if izpis:\n",
    "                decimalk = int(np.log10(1/tol)) # ne deluje vedno in za vse primere:)    \n",
    "                print(f'Rešitev: {r:5.{decimalk}f}, D: {D:5.5f}')\n",
    "            return r "
   ]
  },
  {
   "cell_type": "markdown",
   "metadata": {},
   "source": [
    "!!!! GAŠPER TUKAJ GLEJTE!!!"
   ]
  },
  {
   "cell_type": "code",
   "execution_count": 65,
   "metadata": {},
   "outputs": [],
   "source": [
    "def euler_implicitna(f, t, y0, *args, **kwargs):\n",
    "    \"\"\"\n",
    "    Implicitna Eulerjeva metoda za reševanje sistema diferencialnih enačb: y' = f(t, y)\n",
    "    \n",
    "    :param f:  funkcija, ki vrne prvi odvod - f(t, y)\n",
    "    :param t:  časovni vektor kjer računamo rešitev\n",
    "    :param y0: začetna vrednosti\n",
    "    :param args: dodatni argumenti funkcije f (brezimenski)\n",
    "    :param kwargs: dodatni argumenti funkcije f (poimenovani)\n",
    "    :return y: vrne np.array ``y`` vrednosti funkcije.\n",
    "    \"\"\"\n",
    "    y = np.zeros_like(t)\n",
    "    y[0] = y0        \n",
    "    h = t[1]-t[0]\n",
    "    for i in range(len(t)-1):\n",
    "        ### GAŠPER: Ta del bi bilo dobro, da bi animirali\n",
    "        #sol = newton(lambda y_next: y[i] + f(t[i], y_next, *args, **kwargs) * h - y_next, x0=y[0])\n",
    "        y[i+1] = sekantna(lambda y_next: y[i] + f(t[i], y_next, *args, **kwargs) * h - y_next, x0=y[i],x1=y[i]+1)\n",
    "    return y"
   ]
  },
  {
   "cell_type": "code",
   "execution_count": 66,
   "metadata": {},
   "outputs": [
    {
     "name": "stdout",
     "output_type": "stream",
     "text": [
      "1. korak: x0=0, f(x0)=6.54, x1=1, f(x1)=5.20667, x2=4.905.\n",
      "2. korak: x0=1, f(x0)=5.20667, x1=4.905, f(x1)=-1.77636e-15, x2=4.905.\n",
      "Rešitev: 4.905, D: 0.00000\n",
      "1. korak: x0=4.905, f(x0)=4.905, x1=5.905, f(x1)=3.57167, x2=8.58375.\n",
      "2. korak: x0=5.905, f(x0)=3.57167, x1=8.58375, f(x1)=3.55271e-15, x2=8.58375.\n",
      "Rešitev: 8.584, D: 0.00000\n",
      "1. korak: x0=8.58375, f(x0)=3.67875, x1=9.58375, f(x1)=2.34542, x2=11.3428.\n",
      "2. korak: x0=9.58375, f(x0)=2.34542, x1=11.3428, f(x1)=-3.55271e-15, x2=11.3428.\n",
      "Rešitev: 11.343, D: 0.00000\n"
     ]
    }
   ],
   "source": [
    "vi = euler_implicitna(f_zračni_upor,t, y0=0)"
   ]
  },
  {
   "cell_type": "code",
   "execution_count": 49,
   "metadata": {},
   "outputs": [
    {
     "data": {
      "image/png": "[encoded data removed]",
      "text/plain": [
       "<Figure size 432x288 with 1 Axes>"
      ]
     },
     "metadata": {
      "needs_background": "light"
     },
     "output_type": "display_data"
    }
   ],
   "source": [
    "plt.plot(sol['t'], sol['y'][0], '-',label='RK4')\n",
    "plt.plot(t, v, '-',label='Euler')\n",
    "plt.plot(t, vi, '-',label='Implicitna Euler')\n",
    "plt.xlabel('Čas [t]')\n",
    "plt.legend();"
   ]
  },
  {
   "cell_type": "markdown",
   "metadata": {},
   "source": [
    "Potem, ko bi bil en korak animiran in pojasnjen, bi pokazali več korakov.."
   ]
  },
  {
   "cell_type": "code",
   "execution_count": 63,
   "metadata": {},
   "outputs": [
    {
     "data": {
      "text/plain": [
       "array([0. , 0.2, 0.4, 0.6, 0.8, 1. , 1.2, 1.4, 1.6, 1.8])"
      ]
     },
     "execution_count": 63,
     "metadata": {},
     "output_type": "execute_result"
    }
   ],
   "source": [
    "t = np.linspace(0, 20, 101)\n",
    "t[:10]"
   ]
  },
  {
   "cell_type": "code",
   "execution_count": 64,
   "metadata": {},
   "outputs": [],
   "source": [
    "sol = solve_ivp(f_zračni_upor, t_span=(t[0], t[-1]), y0=[0], t_eval=t)"
   ]
  },
  {
   "cell_type": "code",
   "execution_count": 65,
   "metadata": {},
   "outputs": [
    {
     "data": {
      "image/png": "[encoded data removed]",
      "text/plain": [
       "<Figure size 432x288 with 1 Axes>"
      ]
     },
     "metadata": {
      "needs_background": "light"
     },
     "output_type": "display_data"
    }
   ],
   "source": [
    "plt.plot(sol['t'], sol['y'][0], '.',label='hitrost $x$ [m]')\n",
    "plt.xlabel('Čas [t]')\n",
    "plt.legend();"
   ]
  },
  {
   "cell_type": "code",
   "execution_count": 66,
   "metadata": {},
   "outputs": [],
   "source": [
    "t = np.linspace(0, 20, 8)"
   ]
  },
  {
   "cell_type": "code",
   "execution_count": 67,
   "metadata": {},
   "outputs": [],
   "source": [
    "v = euler(f_zračni_upor,t, y0=0)"
   ]
  },
  {
   "cell_type": "code",
   "execution_count": 70,
   "metadata": {},
   "outputs": [],
   "source": [
    "vi = euler_implicitna(f_zračni_upor,t, y0=0)"
   ]
  },
  {
   "cell_type": "code",
   "execution_count": 71,
   "metadata": {},
   "outputs": [
    {
     "data": {
      "image/png": "[encoded data removed]",
      "text/plain": [
       "<Figure size 432x288 with 1 Axes>"
      ]
     },
     "metadata": {
      "needs_background": "light"
     },
     "output_type": "display_data"
    }
   ],
   "source": [
    "plt.plot(sol['t'], sol['y'][0], '-',label='RK4')\n",
    "plt.plot(t, v, '-',label='Euler')\n",
    "plt.plot(t, vi, '-',label='Implicitna Euler')\n",
    "plt.xlabel('Čas [t]')\n",
    "plt.legend();"
   ]
  },
  {
   "cell_type": "markdown",
   "metadata": {},
   "source": [
    "Dodatek za animacijo"
   ]
  },
  {
   "cell_type": "code",
   "execution_count": null,
   "metadata": {},
   "outputs": [],
   "source": [
    "def sekantna(fun, x0, x1, tol=1e-3, Dtol=1e-1, max_iter=50, izpis=True):\n",
    "    \"\"\" Vrne ničlo z natančnostjo tol\n",
    "    \n",
    "    :param fun: funkcija katere ničlo iščemo\n",
    "    :param x0:  spodnja meja iskanja\n",
    "    :param x1:  zgornja meja iskanja\n",
    "    :param tol: zahtevana natančnost\n",
    "    :max_iter:  maksimalno število iteracij preden se izvajanje prekine\n",
    "    :param Dtol:največja vsota absolutnih vrednosti rešitve \n",
    "    :izpis:     ali na koncu izpiše kratko poročilo\n",
    "    \"\"\"\n",
    "    if np.sign(fun(x0))==np.sign(fun(x1)):\n",
    "        raise Exception('Ničla ni izolirana. Root is not bracketed.')\n",
    "    for i in range(max_iter):\n",
    "        f0 = fun(x0)\n",
    "        f1 = fun(x1)\n",
    "        x2 = x1 - f1 * (x1 - x0)/(f1 - f0)\n",
    "        x0 = x1\n",
    "        x1 = x2\n",
    "        if izpis:\n",
    "            print('{:g}. korak: x0={:g}, x1={:g}.'.format(i+1, x0, x1))\n",
    "        if np.abs(x1-x0)<tol:\n",
    "            r = (x0+x1)/2\n",
    "            D = np.abs(fun(x0)) + np.abs(fun(x1))\n",
    "            if D > Dtol:\n",
    "                raise Exception('Verjetnost pola ali več ničel.')\n",
    "            r = (x0+x1)/2\n",
    "            if izpis:\n",
    "                decimalk = int(np.log10(1/tol)) # ne deluje vedno in za vse primere:)    \n",
    "                print(f'Rešitev: {r:5.{decimalk}f}, D: {D:5.5f}')\n",
    "            return r "
   ]
  }
 ],
 "metadata": {
  "kernelspec": {
   "display_name": "Python 3",
   "language": "python",
   "name": "python3"
  },
  "language_info": {
   "codemirror_mode": {
    "name": "ipython",
    "version": 3
   },
   "file_extension": ".py",
   "mimetype": "text/x-python",
   "name": "python",
   "nbconvert_exporter": "python",
   "pygments_lexer": "ipython3",
   "version": "3.8.6"
  },
  "toc": {
   "base_numbering": 1,
   "nav_menu": {},
   "number_sections": true,
   "sideBar": true,
   "skip_h1_title": false,
   "title_cell": "Kazalo",
   "title_sidebar": "Kazalo",
   "toc_cell": false,
   "toc_position": {},
   "toc_section_display": true,
   "toc_window_display": false
  }
 },
 "nbformat": 4,
 "nbformat_minor": 4
}
